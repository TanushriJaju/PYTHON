{
 "cells": [
  {
   "cell_type": "code",
   "execution_count": 3,
   "id": "d21c62d6",
   "metadata": {},
   "outputs": [
    {
     "name": "stdout",
     "output_type": "stream",
     "text": [
      "[10, '20', True]\n"
     ]
    }
   ],
   "source": [
    "eL=[]\n",
    "eL.append(10)\n",
    "eL.append('20')\n",
    "eL.append(True)\n",
    "print(eL)"
   ]
  },
  {
   "cell_type": "code",
   "execution_count": null,
   "id": "9b1995de",
   "metadata": {},
   "outputs": [],
   "source": []
  }
 ],
 "metadata": {
  "kernelspec": {
   "display_name": "Python 3 (ipykernel)",
   "language": "python",
   "name": "python3"
  },
  "language_info": {
   "codemirror_mode": {
    "name": "ipython",
    "version": 3
   },
   "file_extension": ".py",
   "mimetype": "text/x-python",
   "name": "python",
   "nbconvert_exporter": "python",
   "pygments_lexer": "ipython3",
   "version": "3.11.5"
  }
 },
 "nbformat": 4,
 "nbformat_minor": 5
}
